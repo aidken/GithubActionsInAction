{
 "cells": [
  {
   "cell_type": "markdown",
   "metadata": {},
   "source": [
    "# My reading notes of [GitHub Actions in Action](https://www.manning.com/books/github-actions-in-action) from Manning Publications.\n",
    "\n",
    "December 29th, 2024"
   ]
  },
  {
   "cell_type": "markdown",
   "metadata": {},
   "source": [
    "## Chapter 2 Hands-on: My first Actions workflow\n",
    "\n",
    "`runs-on` sets up a runner. A runner is a virtual machine where you run your actions/jobs.\n",
    "\n",
    "`run` seems to accept Shell commands that are valid on the runner, such as `echo` and `tree`.\n",
    "\n",
    "You can also `uses` code snippets that you can import from the Marketplace, such as [actions/checkout@v4](https://github.com/actions/checkout) and [actions/setup-python@v5](https://github.com/actions/setup-python)."
   ]
  },
  {
   "cell_type": "markdown",
   "metadata": {
    "vscode": {
     "languageId": "plaintext"
    }
   },
   "source": [
    "Okay, what I want to do is run tests when I push a change of my Python package. How can I do that?"
   ]
  },
  {
   "cell_type": "code",
   "execution_count": null,
   "metadata": {
    "vscode": {
     "languageId": "plaintext"
    }
   },
   "outputs": [],
   "source": []
  }
 ],
 "metadata": {
  "language_info": {
   "name": "python"
  }
 },
 "nbformat": 4,
 "nbformat_minor": 2
}
