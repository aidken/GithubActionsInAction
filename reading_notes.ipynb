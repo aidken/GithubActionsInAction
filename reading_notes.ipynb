{
 "cells": [
  {
   "cell_type": "markdown",
   "metadata": {},
   "source": [
    "# My reading notes of [GitHub Actions in Action](https://www.manning.com/books/github-actions-in-action) from Manning Publications.\n",
    "\n",
    "December 29th, 2024"
   ]
  },
  {
   "cell_type": "markdown",
   "metadata": {},
   "source": [
    "## Chapter 2 Hands-on: My first Actions workflow\n",
    "\n",
    "`runs-on` set up a runner.\n",
    "\n",
    "`run` seems to accept Shell commands that are valid on the runner."
   ]
  }
 ],
 "metadata": {
  "language_info": {
   "name": "python"
  }
 },
 "nbformat": 4,
 "nbformat_minor": 2
}
